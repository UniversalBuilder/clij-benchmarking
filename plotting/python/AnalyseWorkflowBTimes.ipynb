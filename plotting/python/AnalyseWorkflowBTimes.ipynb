{
 "cells": [
  {
   "cell_type": "code",
   "execution_count": 3,
   "metadata": {},
   "outputs": [],
   "source": [
    "# configuration and imports\n",
    "\n",
    "data_folder = \"../../data/benchmarking/cellcount/\"\n",
    "\n",
    "workflow = \"workflowB\"\n",
    "\n",
    "import utils\n",
    "import matplotlib\n",
    "import matplotlib.pyplot as plt\n",
    "from scipy import stats\n",
    "import numpy as np\n",
    "\n",
    "font = {'family' : 'normal',\n",
    "        'size'   : 22}\n",
    "\n",
    "matplotlib.rc('font', **font)"
   ]
  },
  {
   "cell_type": "code",
   "execution_count": 4,
   "metadata": {},
   "outputs": [],
   "source": [
    "# load data\n",
    "fulltime_clij_workstation =    utils.read_all_measurements_from_file(data_folder + \"myers-pc-22\" + \"_\" + workflow + \"_fulltime_clij.csv\")\n",
    "fulltime_clij_laptop =         utils.read_all_measurements_from_file(data_folder + \"myers-pc-21\" + \"_\" + workflow + \"_fulltime_clij.csv\")\n",
    "fulltime_imagej_workstation = utils.read_all_measurements_from_file(data_folder + \"myers-pc-22\" + \"_\" + workflow + \"_fulltime_imagej.csv\")\n",
    "fulltime_imagej_laptop =       utils.read_all_measurements_from_file(data_folder + \"myers-pc-21\" + \"_\" + workflow + \"_fulltime_imagej.csv\")\n"
   ]
  },
  {
   "cell_type": "code",
   "execution_count": 5,
   "metadata": {},
   "outputs": [
    {
     "name": "stdout",
     "output_type": "stream",
     "text": [
      "number of time measurements ImageJ laptop: 300\n",
      "number of time measurements CLIJ laptop: 300\n",
      "number of time measurements ImageJ workstation: 300\n",
      "number of time measurements CLIJ workstation: 300\n"
     ]
    }
   ],
   "source": [
    "print(\"number of time measurements ImageJ laptop: \" + str(len(fulltime_imagej_laptop)))\n",
    "print(\"number of time measurements CLIJ laptop: \" + str(len(fulltime_clij_laptop)))\n",
    "print(\"number of time measurements ImageJ workstation: \" + str(len(fulltime_imagej_workstation)))\n",
    "print(\"number of time measurements CLIJ workstation: \" + str(len(fulltime_clij_workstation)))"
   ]
  },
  {
   "cell_type": "code",
   "execution_count": 6,
   "metadata": {},
   "outputs": [
    {
     "name": "stdout",
     "output_type": "stream",
     "text": [
      "Full time including I/O\n",
      "=======================\n",
      "time to process all imges\n",
      "\n",
      "Time laptop imagej: 163.91358333333335 min\n",
      "Time laptop clij: 10.632283333333334 min\n",
      "Time workstation imagej: 41.369749999999996 min\n",
      "Time workstation clij: 4.9232 min\n",
      "Factor imagej laptop to clij laptop: 15.416592861050542\n",
      "Factor imagej laptop to clij workstation: 33.29411426172679\n"
     ]
    }
   ],
   "source": [
    "# sum times for the whole timelapse\n",
    "sum_time_clij_laptop = np.sum(fulltime_clij_laptop)\n",
    "sum_time_imagej_laptop = np.sum(fulltime_imagej_laptop)\n",
    "sum_time_clij_workstation = np.sum(fulltime_clij_workstation)\n",
    "sum_time_imagej_workstation = np.sum(fulltime_imagej_workstation)\n",
    "\n",
    "print(\"Full time including I/O\")\n",
    "print(\"=======================\")\n",
    "print(\"time to process all imges\\n\")\n",
    "\n",
    "print(\"Time laptop imagej: \" + str(sum_time_imagej_laptop / 1000 / 60) + \" min\")\n",
    "print(\"Time laptop clij: \" + str(sum_time_clij_laptop / 1000 / 60) + \" min\")\n",
    "print(\"Time workstation imagej: \" + str(sum_time_imagej_workstation / 1000 / 60) + \" min\")\n",
    "print(\"Time workstation clij: \" + str(sum_time_clij_workstation / 1000 / 60) + \" min\")\n",
    "\n",
    "print (\"Factor imagej laptop to clij laptop: \" + str(sum_time_imagej_laptop / sum_time_clij_laptop ))\n",
    "print (\"Factor imagej laptop to clij workstation: \" + str(sum_time_imagej_laptop / sum_time_clij_workstation ))\n"
   ]
  },
  {
   "cell_type": "code",
   "execution_count": 8,
   "metadata": {},
   "outputs": [
    {
     "name": "stdout",
     "output_type": "stream",
     "text": [
      "Time excluding I/O\n",
      "==================\n",
      "time to process a single image\n",
      "\n",
      "Time laptop imagej: 31.779565217391305 sec\n",
      "Time laptop clij: 1.2200735785953176 sec\n",
      "Time workstation imagej: 6.115260869565217 sec\n",
      "Time workstation clij: 0.40741471571906357 sec\n",
      "Factor imagej laptop to clij laptop: 26.047253030411017\n",
      "Factor imagej laptop to clij workstation: 78.0029880886904\n"
     ]
    }
   ],
   "source": [
    "# average processing times without I/O\n",
    "time_clij_workstation =    utils.read_measurements_from_file(data_folder + \"myers-pc-22\" + \"_\" + workflow + \"_time_clij.csv\")\n",
    "time_clij_laptop =         utils.read_measurements_from_file(data_folder + \"myers-pc-21\" + \"_\" + workflow + \"_time_clij.csv\")\n",
    "time_imagej_workstation = utils.read_measurements_from_file(data_folder + \"myers-pc-22\" + \"_\" + workflow + \"_time_imagej.csv\")\n",
    "time_imagej_laptop =       utils.read_measurements_from_file(data_folder + \"myers-pc-21\" + \"_\" + workflow + \"_time_imagej.csv\")\n",
    "\n",
    "avg_time_clij_laptop = np.sum(time_clij_laptop) / len(time_clij_laptop)\n",
    "avg_time_imagej_laptop = np.sum(time_imagej_laptop) / len(time_imagej_laptop)\n",
    "avg_time_clij_workstation = np.sum(time_clij_workstation) / len(time_clij_workstation)\n",
    "avg_time_imagej_workstation = np.sum(time_imagej_workstation) / len(time_imagej_workstation)\n",
    "\n",
    "print(\"Time excluding I/O\")\n",
    "print(\"==================\")\n",
    "print(\"time to process a single image\\n\")\n",
    "\n",
    "print(\"Time laptop imagej: \" + str(avg_time_imagej_laptop / 1000) + \" sec\")\n",
    "print(\"Time laptop clij: \" + str(avg_time_clij_laptop / 1000) + \" sec\")\n",
    "print(\"Time workstation imagej: \" + str(avg_time_imagej_workstation / 1000) + \" sec\")\n",
    "print(\"Time workstation clij: \" + str(avg_time_clij_workstation / 1000) + \" sec\")\n",
    "\n",
    "print (\"Factor imagej laptop to clij laptop: \" + str(avg_time_imagej_laptop / avg_time_clij_laptop ))\n",
    "print (\"Factor imagej laptop to clij workstation: \" + str(avg_time_imagej_laptop /avg_time_clij_workstation ))\n"
   ]
  },
  {
   "cell_type": "code",
   "execution_count": null,
   "metadata": {},
   "outputs": [],
   "source": [
    "#"
   ]
  },
  {
   "cell_type": "code",
   "execution_count": null,
   "metadata": {},
   "outputs": [],
   "source": []
  }
 ],
 "metadata": {
  "kernelspec": {
   "display_name": "Python 3",
   "language": "python",
   "name": "python3"
  },
  "toc": {
   "base_numbering": 1,
   "nav_menu": {},
   "number_sections": false,
   "sideBar": false,
   "skip_h1_title": false,
   "title_cell": "Table of Contents",
   "title_sidebar": "Contents",
   "toc_cell": false,
   "toc_position": {},
   "toc_section_display": false,
   "toc_window_display": false
  }
 },
 "nbformat": 4,
 "nbformat_minor": 2
}
